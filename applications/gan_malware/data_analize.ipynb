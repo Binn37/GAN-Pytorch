{
 "cells": [
  {
   "cell_type": "code",
   "execution_count": 6,
   "metadata": {
    "collapsed": false,
    "pycharm": {
     "is_executing": true,
     "name": "#%%\n"
    }
   },
   "outputs": [],
   "source": [
    "import pandas as pd\n",
    "annotations_file = \"../data/dataset-v1/classification_ransomware_family_new.csv\"\n",
    "# pe_features = pd.read_excel(annotations_file, sheet_name=\"classification\", engine='openpyxl')\n",
    "pe_features = pd.read_csv(annotations_file, delimiter=\"|\")\n",
    "# unique_dll_vals = pe_features[\"DllCharacteristics\"].unique()\n",
    "# unique_cs_vals = pe_features[\"CheckSum\"].unique()\n",
    "# print(unique_dll_vals)\n",
    "pe_features.to_excel(r'classification_ransomware_family.xlsx', index = None, header=True)\n"
   ]
  },
  {
   "cell_type": "code",
   "execution_count": null,
   "metadata": {
    "collapsed": false,
    "pycharm": {
     "is_executing": true,
     "name": "#%%\n"
    }
   },
   "outputs": [],
   "source": [
    "pe_features"
   ]
  },
  {
   "cell_type": "code",
   "execution_count": 3,
   "metadata": {
    "collapsed": false,
    "pycharm": {
     "name": "#%%\n"
    }
   },
   "outputs": [
    {
     "data": {
      "text/plain": [
       "legitimate                                                               Babuk_4\n",
       "Unnamed: 1                                                                     2\n",
       "Name                           18e299d4331ccff805275b21f33be0a3bd3d1d9ce72a79...\n",
       "md5                                             16c7212928b23a170cebb12935a933fa\n",
       "Machine                                                                      332\n",
       "SizeOfOptionalHeader                                                         224\n",
       "Characteristics                                                              258\n",
       "MajorLinkerVersion                                                            14\n",
       "MinorLinkerVersion                                                            27\n",
       "SizeOfCode                                                                 74752\n",
       "SizeOfInitializedData                                                       5632\n",
       "SizeOfUninitializedData                                                        0\n",
       "AddressOfEntryPoint                                                        43968\n",
       "BaseOfCode                                                                  4096\n",
       "BaseOfData                                                                 81920\n",
       "ImageBase                                                                4194304\n",
       "SectionAlignment                                                            4096\n",
       "FileAlignment                                                                512\n",
       "MajorOperatingSystemVersion                                                    6\n",
       "MinorOperatingSystemVersion                                                    0\n",
       "MajorImageVersion                                                              0\n",
       "MinorImageVersion                                                              0\n",
       "MajorSubsystemVersion                                                          6\n",
       "MinorSubsystemVersion                                                          0\n",
       "SizeOfImage                                                                98304\n",
       "SizeOfHeaders                                                               1024\n",
       "CheckSum                                                                       0\n",
       "Subsystem                                                                      2\n",
       "DllCharacteristics                                                         34112\n",
       "SizeOfStackReserve                                                       1048576\n",
       "SizeOfStackCommit                                                           4096\n",
       "SizeOfHeapReserve                                                        1048576\n",
       "SizeOfHeapCommit                                                            4096\n",
       "LoaderFlags                                                                    0\n",
       "NumberOfRvaAndSizes                                                           16\n",
       "SectionsNb                                                                     5\n",
       "SectionsMeanEntropy                                                     4.080893\n",
       "SectionsMinEntropy                                                      0.114463\n",
       "SectionsMaxEntropy                                                      6.006674\n",
       "SectionsMeanRawsize                                                      19840.0\n",
       "SectionsMinRawsize                                                           512\n",
       "SectionMaxRawsize                                                          74752\n",
       "SectionsMeanVirtualsize                                                  15669.4\n",
       "SectionsMinVirtualsize                                                         8\n",
       "SectionMaxVirtualsize                                                      74281\n",
       "ImportsNbDLL                                                                   7\n",
       "ImportsNb                                                                     80\n",
       "ImportsNbOrdinal                                                               0\n",
       "ExportNb                                                                       0\n",
       "ResourcesNb                                                                    0\n",
       "ResourcesMeanEntropy                                                         0.0\n",
       "ResourcesMinEntropy                                                          0.0\n",
       "ResourcesMaxEntropy                                                          0.0\n",
       "ResourcesMeanSize                                                            0.0\n",
       "ResourcesMinSize                                                               0\n",
       "ResourcesMaxSize                                                               0\n",
       "LoadConfigurationSize                                                          0\n",
       "VersionInformationSize                                                         0\n",
       "Name: 1, dtype: object"
      ]
     },
     "execution_count": 3,
     "metadata": {},
     "output_type": "execute_result"
    }
   ],
   "source": [
    "pe_features.iloc[1,:]"
   ]
  },
  {
   "cell_type": "code",
   "execution_count": null,
   "metadata": {
    "collapsed": false,
    "pycharm": {
     "name": "#%%\n"
    }
   },
   "outputs": [],
   "source": [
    "import matplotlib.pyplot as plt\n",
    "import seaborn as sns\n",
    "plt.figure(figsize=(15,5))\n",
    "sns.countplot(x='legitimate',data=pe_features)\n",
    "plt.xlabel('Ransomware')\n",
    "plt.ylabel('Number of samples')\n",
    "plt.show()"
   ]
  }
 ],
 "metadata": {
  "kernelspec": {
   "display_name": "Python 3.8.7 ('venv': venv)",
   "language": "python",
   "name": "python3"
  },
  "language_info": {
   "codemirror_mode": {
    "name": "ipython",
    "version": 3
   },
   "file_extension": ".py",
   "mimetype": "text/x-python",
   "name": "python",
   "nbconvert_exporter": "python",
   "pygments_lexer": "ipython3",
   "version": "3.8.7"
  },
  "vscode": {
   "interpreter": {
    "hash": "9277814c8ac0f43a349330a2204994bb4c14cea685e6471bfa3b8a21b7eeea1e"
   }
  }
 },
 "nbformat": 4,
 "nbformat_minor": 0
}