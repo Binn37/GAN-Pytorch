{
 "cells": [
  {
   "cell_type": "code",
   "execution_count": 1,
   "outputs": [
    {
     "name": "stdout",
     "output_type": "stream",
     "text": [
      "[34112 34144   320 32768     0   352 32832 33088 33024 33120  1344 34048\n",
      " 33056]\n"
     ]
    }
   ],
   "source": [
    "import pandas as pd\n",
    "annotations_file = \"../data/dataset-v2/classification_ransomware_family.xlsx\"\n",
    "pe_features = pd.read_excel(annotations_file, sheet_name=\"classification\", engine='openpyxl')\n",
    "unique_dll_vals = pe_features[\"DllCharacteristics\"].unique()\n",
    "unique_cs_vals = pe_features[\"CheckSum\"].unique()\n",
    "print(unique_dll_vals)"
   ],
   "metadata": {
    "collapsed": false,
    "pycharm": {
     "name": "#%%\n"
    }
   }
  },
  {
   "cell_type": "code",
   "execution_count": 2,
   "outputs": [
    {
     "data": {
      "text/plain": "       legitimate  Unnamed: 1  \\\n0         Babuk_8           1   \n1         Babuk_4           2   \n2         Babuk_5           3   \n3         Babuk_7           4   \n4         Babuk_1           5   \n...           ...         ...   \n1186  WannaCry_93        1187   \n1187  WannaCry_94        1188   \n1188  WannaCry_95        1189   \n1189  WannaCry_97        1190   \n1190  WannaCry_96        1191   \n\n                                                   Name  \\\n0     1f2edda243404918b78aa6123aa1fc5b18dd9506e4042c...   \n1     18e299d4331ccff805275b21f33be0a3bd3d1d9ce72a79...   \n2     1b9412ca5e9deb29aeaa37be05ae8d0a8a636c12fdff8c...   \n3     1deb1efad2c469198aabbb618285e2229052273cf654ee...   \n4     06d370217abec9468bc22c30ba3be72b8de1a7459f9e92...   \n...                                                 ...   \n1186                                   smb-z7uhqxx6.exe   \n1187                                     WanaCry.RANSOM   \n1188                                       WannaCry.exe   \n1189                                 Win32.Wannacry.exe   \n1190                                      WannaCry2.exe   \n\n                                   md5  Machine  SizeOfOptionalHeader  \\\n0     f0d4c7d334633a72a3c7bd722e12c378      332                   224   \n1     16c7212928b23a170cebb12935a933fa      332                   224   \n2     e25e078255b56b47897ac96a7842de92      332                   224   \n3     d24e9b0c3a81e884e14596d6047e31be      332                   224   \n4     015e93d82958f4edbc4c8807eeefc430      332                   224   \n...                                ...      ...                   ...   \n1186  6fdb9a5243232703b13cadc5cccfa253      332                   224   \n1187  7bf2b57f2a205768755c07f238fb32cc      332                   224   \n1188  f42d29367786af1b8919a9d0cbedfd3f      332                   224   \n1189  530c580b64606f9fd0610525eb6e973b      332                   224   \n1190  7a9938d71a924437229f1e189aad63cf      332                   224   \n\n      Characteristics  MajorLinkerVersion  MinorLinkerVersion  SizeOfCode  \\\n0                 258                  14                  27       74752   \n1                 258                  14                  27       74752   \n2                 258                  14                  27       26624   \n3                 258                  14                  27       74752   \n4                 258                  14                  27       23552   \n...               ...                 ...                 ...         ...   \n1186              271                   6                   0       20480   \n1187              271                   6                   0       81920   \n1188              271                   6                   0       28672   \n1189             8462                   6                   0        4096   \n1190             8462                   6                   0        4096   \n\n      ...  ExportNb  ResourcesNb  ResourcesMeanEntropy  ResourcesMinEntropy  \\\n0     ...         0            0              0.000000             0.000000   \n1     ...         0            0              0.000000             0.000000   \n2     ...         0            0              0.000000             0.000000   \n3     ...         0            0              0.000000             0.000000   \n4     ...         0            0              0.000000             0.000000   \n...   ...       ...          ...                   ...                  ...   \n1186  ...         0            0              0.000000             0.000000   \n1187  ...         0           16              0.209007             0.010782   \n1188  ...         0            3              0.028620             0.019514   \n1189  ...         1            1              0.029981             0.029981   \n1190  ...         1            1              0.028534             0.028534   \n\n      ResourcesMaxEntropy  ResourcesMeanSize  ResourcesMinSize  \\\n0                0.000000       0.000000e+00                 0   \n1                0.000000       0.000000e+00                 0   \n2                0.000000       0.000000e+00                 0   \n3                0.000000       0.000000e+00                 0   \n4                0.000000       0.000000e+00                 0   \n...                   ...                ...               ...   \n1186             0.000000       0.000000e+00                 0   \n1187             0.529203       6.523688e+03                20   \n1188             0.036664       1.149497e+06               904   \n1189             0.029981       5.242880e+06           5242880   \n1190             0.028534       5.242880e+06           5242880   \n\n      ResourcesMaxSize  LoadConfigurationSize  VersionInformationSize  \n0                    0                      0                       0  \n1                    0                      0                       0  \n2                    0                    184                       0  \n3                    0                      0                       0  \n4                    0                    184                       0  \n...                ...                    ...                     ...  \n1186                 0                      0                       0  \n1187             46168                      0                       0  \n1188           3446325                      0                       0  \n1189           5242880                      0                       0  \n1190           5242880                      0                       0  \n\n[1191 rows x 58 columns]",
      "text/html": "<div>\n<style scoped>\n    .dataframe tbody tr th:only-of-type {\n        vertical-align: middle;\n    }\n\n    .dataframe tbody tr th {\n        vertical-align: top;\n    }\n\n    .dataframe thead th {\n        text-align: right;\n    }\n</style>\n<table border=\"1\" class=\"dataframe\">\n  <thead>\n    <tr style=\"text-align: right;\">\n      <th></th>\n      <th>legitimate</th>\n      <th>Unnamed: 1</th>\n      <th>Name</th>\n      <th>md5</th>\n      <th>Machine</th>\n      <th>SizeOfOptionalHeader</th>\n      <th>Characteristics</th>\n      <th>MajorLinkerVersion</th>\n      <th>MinorLinkerVersion</th>\n      <th>SizeOfCode</th>\n      <th>...</th>\n      <th>ExportNb</th>\n      <th>ResourcesNb</th>\n      <th>ResourcesMeanEntropy</th>\n      <th>ResourcesMinEntropy</th>\n      <th>ResourcesMaxEntropy</th>\n      <th>ResourcesMeanSize</th>\n      <th>ResourcesMinSize</th>\n      <th>ResourcesMaxSize</th>\n      <th>LoadConfigurationSize</th>\n      <th>VersionInformationSize</th>\n    </tr>\n  </thead>\n  <tbody>\n    <tr>\n      <th>0</th>\n      <td>Babuk_8</td>\n      <td>1</td>\n      <td>1f2edda243404918b78aa6123aa1fc5b18dd9506e4042c...</td>\n      <td>f0d4c7d334633a72a3c7bd722e12c378</td>\n      <td>332</td>\n      <td>224</td>\n      <td>258</td>\n      <td>14</td>\n      <td>27</td>\n      <td>74752</td>\n      <td>...</td>\n      <td>0</td>\n      <td>0</td>\n      <td>0.000000</td>\n      <td>0.000000</td>\n      <td>0.000000</td>\n      <td>0.000000e+00</td>\n      <td>0</td>\n      <td>0</td>\n      <td>0</td>\n      <td>0</td>\n    </tr>\n    <tr>\n      <th>1</th>\n      <td>Babuk_4</td>\n      <td>2</td>\n      <td>18e299d4331ccff805275b21f33be0a3bd3d1d9ce72a79...</td>\n      <td>16c7212928b23a170cebb12935a933fa</td>\n      <td>332</td>\n      <td>224</td>\n      <td>258</td>\n      <td>14</td>\n      <td>27</td>\n      <td>74752</td>\n      <td>...</td>\n      <td>0</td>\n      <td>0</td>\n      <td>0.000000</td>\n      <td>0.000000</td>\n      <td>0.000000</td>\n      <td>0.000000e+00</td>\n      <td>0</td>\n      <td>0</td>\n      <td>0</td>\n      <td>0</td>\n    </tr>\n    <tr>\n      <th>2</th>\n      <td>Babuk_5</td>\n      <td>3</td>\n      <td>1b9412ca5e9deb29aeaa37be05ae8d0a8a636c12fdff8c...</td>\n      <td>e25e078255b56b47897ac96a7842de92</td>\n      <td>332</td>\n      <td>224</td>\n      <td>258</td>\n      <td>14</td>\n      <td>27</td>\n      <td>26624</td>\n      <td>...</td>\n      <td>0</td>\n      <td>0</td>\n      <td>0.000000</td>\n      <td>0.000000</td>\n      <td>0.000000</td>\n      <td>0.000000e+00</td>\n      <td>0</td>\n      <td>0</td>\n      <td>184</td>\n      <td>0</td>\n    </tr>\n    <tr>\n      <th>3</th>\n      <td>Babuk_7</td>\n      <td>4</td>\n      <td>1deb1efad2c469198aabbb618285e2229052273cf654ee...</td>\n      <td>d24e9b0c3a81e884e14596d6047e31be</td>\n      <td>332</td>\n      <td>224</td>\n      <td>258</td>\n      <td>14</td>\n      <td>27</td>\n      <td>74752</td>\n      <td>...</td>\n      <td>0</td>\n      <td>0</td>\n      <td>0.000000</td>\n      <td>0.000000</td>\n      <td>0.000000</td>\n      <td>0.000000e+00</td>\n      <td>0</td>\n      <td>0</td>\n      <td>0</td>\n      <td>0</td>\n    </tr>\n    <tr>\n      <th>4</th>\n      <td>Babuk_1</td>\n      <td>5</td>\n      <td>06d370217abec9468bc22c30ba3be72b8de1a7459f9e92...</td>\n      <td>015e93d82958f4edbc4c8807eeefc430</td>\n      <td>332</td>\n      <td>224</td>\n      <td>258</td>\n      <td>14</td>\n      <td>27</td>\n      <td>23552</td>\n      <td>...</td>\n      <td>0</td>\n      <td>0</td>\n      <td>0.000000</td>\n      <td>0.000000</td>\n      <td>0.000000</td>\n      <td>0.000000e+00</td>\n      <td>0</td>\n      <td>0</td>\n      <td>184</td>\n      <td>0</td>\n    </tr>\n    <tr>\n      <th>...</th>\n      <td>...</td>\n      <td>...</td>\n      <td>...</td>\n      <td>...</td>\n      <td>...</td>\n      <td>...</td>\n      <td>...</td>\n      <td>...</td>\n      <td>...</td>\n      <td>...</td>\n      <td>...</td>\n      <td>...</td>\n      <td>...</td>\n      <td>...</td>\n      <td>...</td>\n      <td>...</td>\n      <td>...</td>\n      <td>...</td>\n      <td>...</td>\n      <td>...</td>\n      <td>...</td>\n    </tr>\n    <tr>\n      <th>1186</th>\n      <td>WannaCry_93</td>\n      <td>1187</td>\n      <td>smb-z7uhqxx6.exe</td>\n      <td>6fdb9a5243232703b13cadc5cccfa253</td>\n      <td>332</td>\n      <td>224</td>\n      <td>271</td>\n      <td>6</td>\n      <td>0</td>\n      <td>20480</td>\n      <td>...</td>\n      <td>0</td>\n      <td>0</td>\n      <td>0.000000</td>\n      <td>0.000000</td>\n      <td>0.000000</td>\n      <td>0.000000e+00</td>\n      <td>0</td>\n      <td>0</td>\n      <td>0</td>\n      <td>0</td>\n    </tr>\n    <tr>\n      <th>1187</th>\n      <td>WannaCry_94</td>\n      <td>1188</td>\n      <td>WanaCry.RANSOM</td>\n      <td>7bf2b57f2a205768755c07f238fb32cc</td>\n      <td>332</td>\n      <td>224</td>\n      <td>271</td>\n      <td>6</td>\n      <td>0</td>\n      <td>81920</td>\n      <td>...</td>\n      <td>0</td>\n      <td>16</td>\n      <td>0.209007</td>\n      <td>0.010782</td>\n      <td>0.529203</td>\n      <td>6.523688e+03</td>\n      <td>20</td>\n      <td>46168</td>\n      <td>0</td>\n      <td>0</td>\n    </tr>\n    <tr>\n      <th>1188</th>\n      <td>WannaCry_95</td>\n      <td>1189</td>\n      <td>WannaCry.exe</td>\n      <td>f42d29367786af1b8919a9d0cbedfd3f</td>\n      <td>332</td>\n      <td>224</td>\n      <td>271</td>\n      <td>6</td>\n      <td>0</td>\n      <td>28672</td>\n      <td>...</td>\n      <td>0</td>\n      <td>3</td>\n      <td>0.028620</td>\n      <td>0.019514</td>\n      <td>0.036664</td>\n      <td>1.149497e+06</td>\n      <td>904</td>\n      <td>3446325</td>\n      <td>0</td>\n      <td>0</td>\n    </tr>\n    <tr>\n      <th>1189</th>\n      <td>WannaCry_97</td>\n      <td>1190</td>\n      <td>Win32.Wannacry.exe</td>\n      <td>530c580b64606f9fd0610525eb6e973b</td>\n      <td>332</td>\n      <td>224</td>\n      <td>8462</td>\n      <td>6</td>\n      <td>0</td>\n      <td>4096</td>\n      <td>...</td>\n      <td>1</td>\n      <td>1</td>\n      <td>0.029981</td>\n      <td>0.029981</td>\n      <td>0.029981</td>\n      <td>5.242880e+06</td>\n      <td>5242880</td>\n      <td>5242880</td>\n      <td>0</td>\n      <td>0</td>\n    </tr>\n    <tr>\n      <th>1190</th>\n      <td>WannaCry_96</td>\n      <td>1191</td>\n      <td>WannaCry2.exe</td>\n      <td>7a9938d71a924437229f1e189aad63cf</td>\n      <td>332</td>\n      <td>224</td>\n      <td>8462</td>\n      <td>6</td>\n      <td>0</td>\n      <td>4096</td>\n      <td>...</td>\n      <td>1</td>\n      <td>1</td>\n      <td>0.028534</td>\n      <td>0.028534</td>\n      <td>0.028534</td>\n      <td>5.242880e+06</td>\n      <td>5242880</td>\n      <td>5242880</td>\n      <td>0</td>\n      <td>0</td>\n    </tr>\n  </tbody>\n</table>\n<p>1191 rows × 58 columns</p>\n</div>"
     },
     "execution_count": 2,
     "metadata": {},
     "output_type": "execute_result"
    }
   ],
   "source": [
    "pe_features"
   ],
   "metadata": {
    "collapsed": false,
    "pycharm": {
     "name": "#%%\n"
    }
   }
  },
  {
   "cell_type": "code",
   "execution_count": 3,
   "outputs": [
    {
     "data": {
      "text/plain": "legitimate                                                               Babuk_4\nUnnamed: 1                                                                     2\nName                           18e299d4331ccff805275b21f33be0a3bd3d1d9ce72a79...\nmd5                                             16c7212928b23a170cebb12935a933fa\nMachine                                                                      332\nSizeOfOptionalHeader                                                         224\nCharacteristics                                                              258\nMajorLinkerVersion                                                            14\nMinorLinkerVersion                                                            27\nSizeOfCode                                                                 74752\nSizeOfInitializedData                                                       5632\nSizeOfUninitializedData                                                        0\nAddressOfEntryPoint                                                        43968\nBaseOfCode                                                                  4096\nBaseOfData                                                                 81920\nImageBase                                                                4194304\nSectionAlignment                                                            4096\nFileAlignment                                                                512\nMajorOperatingSystemVersion                                                    6\nMinorOperatingSystemVersion                                                    0\nMajorImageVersion                                                              0\nMinorImageVersion                                                              0\nMajorSubsystemVersion                                                          6\nMinorSubsystemVersion                                                          0\nSizeOfImage                                                                98304\nSizeOfHeaders                                                               1024\nCheckSum                                                                       0\nSubsystem                                                                      2\nDllCharacteristics                                                         34112\nSizeOfStackReserve                                                       1048576\nSizeOfStackCommit                                                           4096\nSizeOfHeapReserve                                                        1048576\nSizeOfHeapCommit                                                            4096\nLoaderFlags                                                                    0\nNumberOfRvaAndSizes                                                           16\nSectionsNb                                                                     5\nSectionsMeanEntropy                                                     4.080893\nSectionsMinEntropy                                                      0.114463\nSectionsMaxEntropy                                                      6.006674\nSectionsMeanRawsize                                                      19840.0\nSectionsMinRawsize                                                           512\nSectionMaxRawsize                                                          74752\nSectionsMeanVirtualsize                                                  15669.4\nSectionsMinVirtualsize                                                         8\nSectionMaxVirtualsize                                                      74281\nImportsNbDLL                                                                   7\nImportsNb                                                                     80\nImportsNbOrdinal                                                               0\nExportNb                                                                       0\nResourcesNb                                                                    0\nResourcesMeanEntropy                                                         0.0\nResourcesMinEntropy                                                          0.0\nResourcesMaxEntropy                                                          0.0\nResourcesMeanSize                                                            0.0\nResourcesMinSize                                                               0\nResourcesMaxSize                                                               0\nLoadConfigurationSize                                                          0\nVersionInformationSize                                                         0\nName: 1, dtype: object"
     },
     "execution_count": 3,
     "metadata": {},
     "output_type": "execute_result"
    }
   ],
   "source": [
    "pe_features.iloc[1,:]"
   ],
   "metadata": {
    "collapsed": false,
    "pycharm": {
     "name": "#%%\n"
    }
   }
  },
  {
   "cell_type": "code",
   "execution_count": null,
   "outputs": [],
   "source": [],
   "metadata": {
    "collapsed": false,
    "pycharm": {
     "name": "#%%\n"
    }
   }
  }
 ],
 "metadata": {
  "kernelspec": {
   "display_name": "Python 3",
   "language": "python",
   "name": "python3"
  },
  "language_info": {
   "codemirror_mode": {
    "name": "ipython",
    "version": 2
   },
   "file_extension": ".py",
   "mimetype": "text/x-python",
   "name": "python",
   "nbconvert_exporter": "python",
   "pygments_lexer": "ipython2",
   "version": "2.7.6"
  }
 },
 "nbformat": 4,
 "nbformat_minor": 0
}