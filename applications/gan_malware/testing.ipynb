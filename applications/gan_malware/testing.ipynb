{
 "cells": [
  {
   "cell_type": "code",
   "execution_count": null,
   "metadata": {
    "collapsed": false,
    "pycharm": {
     "is_executing": true,
     "name": "#%%\n"
    }
   },
   "outputs": [],
   "source": [
    "from PIL import Image\n",
    "\n",
    "img = Image.open(\"../data/dataset-v2/data/Cerber/Cerber_2.png\")\n",
    "img = img.resize((64,64), Image.Resampling.BICUBIC)\n",
    "img.show()"
   ]
  },
  {
   "cell_type": "code",
   "execution_count": 22,
   "metadata": {
    "collapsed": false,
    "pycharm": {
     "name": "#%%\n"
    }
   },
   "outputs": [],
   "source": [
    "import numpy as np\n",
    "\n",
    "img_width, img_height = img.size\n",
    "if img_width < img_height:\n",
    "    ratio = int(img_height / img_width)\n",
    "    box = (0, 0, img_height - img_width * ratio, img_height)\n",
    "    added_img = img.crop(box)\n",
    "    added_img_val = np.asarray(added_img)\n",
    "    img_val = np.asarray(img)\n",
    "    img_val_final = img_val\n",
    "    if ratio > 1:\n",
    "        for _ in range(ratio):\n",
    "            img_val_final = np.concatenate((img_val_final, img_val), axis=1)\n",
    "    img_val_final = np.concatenate((img_val_final, added_img_val), axis=1)\n",
    "    # merged_img = Image.new('RGB', (img.width + added_img.width, img.height))\n",
    "    # merged_img.paste(added_img, (0, 0))\n",
    "    # merged_img.paste(img, (added_img.width, 0))\n",
    "    merged_img = Image.fromarray(img_val_final)\n",
    "    merged_img.show()\n",
    "#     merged_img.save(output_path)\n",
    "# else:\n",
    "#     img.save(output_path)\n",
    "#     print(f\"{output_path} - {img_width}, {img_height}\")"
   ]
  },
  {
   "cell_type": "code",
   "execution_count": 5,
   "metadata": {
    "collapsed": false,
    "pycharm": {
     "name": "#%%\n"
    }
   },
   "outputs": [
    {
     "name": "stdout",
     "output_type": "stream",
     "text": [
      "[34112 34144   320 32768     0   352 32832 33088 33024 33120  1344 34048\n",
      " 33056]\n"
     ]
    }
   ],
   "source": [
    "import pandas as pd\n",
    "annotations_file = \"../data/dataset-v2/classification_ransomware_family.xlsx\"\n",
    "pe_features = pd.read_excel(annotations_file, sheet_name=\"classification\", engine='openpyxl')\n",
    "unique_dll_vals = pe_features[\"DllCharacteristics\"].unique()\n",
    "unique_cs_vals = pe_features[\"CheckSum\"].unique()\n",
    "print(unique_dll_vals)"
   ]
  },
  {
   "cell_type": "code",
   "execution_count": 5,
   "metadata": {
    "collapsed": false,
    "pycharm": {
     "name": "#%%\n"
    }
   },
   "outputs": [
    {
     "name": "stdout",
     "output_type": "stream",
     "text": [
      "13\n"
     ]
    }
   ],
   "source": [
    "unique_dll_vals = pe_features[\"DllCharacteristics\"].unique()\n",
    "print(len(unique_dll_vals))"
   ]
  },
  {
   "cell_type": "code",
   "execution_count": 4,
   "metadata": {
    "collapsed": false,
    "pycharm": {
     "name": "#%%\n"
    }
   },
   "outputs": [
    {
     "name": "stdout",
     "output_type": "stream",
     "text": [
      "[[1.]]\n"
     ]
    }
   ],
   "source": [
    "import numpy as np\n",
    "print(np.eye(1))"
   ]
  },
  {
   "cell_type": "code",
   "execution_count": 14,
   "metadata": {
    "collapsed": false,
    "pycharm": {
     "name": "#%%\n"
    }
   },
   "outputs": [
    {
     "name": "stdout",
     "output_type": "stream",
     "text": [
      "13\n",
      "[4]\n",
      "[[0. 0. 0. 0. 1. 0. 0. 0. 0. 0. 0. 0. 0.]]\n"
     ]
    }
   ],
   "source": [
    "print(unique_dll_vals.shape[0])\n",
    "a = np.random.choice(unique_dll_vals.shape[0], 1)\n",
    "print(a)\n",
    "\n",
    "code_dll = np.eye(len(unique_dll_vals))[a]\n",
    "print(code_dll)\n",
    "code_cs = np.random.choice(unique_cs_vals, (1, 1))\n",
    "code_input = np.hstack((code_dll, code_cs))"
   ]
  },
  {
   "cell_type": "code",
   "execution_count": 13,
   "metadata": {
    "collapsed": false,
    "pycharm": {
     "name": "#%%\n"
    }
   },
   "outputs": [
    {
     "data": {
      "text/plain": [
       "array([[0.00000e+00, 0.00000e+00, 0.00000e+00, 0.00000e+00, 0.00000e+00,\n",
       "        0.00000e+00, 0.00000e+00, 0.00000e+00, 0.00000e+00, 0.00000e+00,\n",
       "        0.00000e+00, 1.00000e+00, 0.00000e+00, 9.03815e+05]])"
      ]
     },
     "execution_count": 13,
     "metadata": {},
     "output_type": "execute_result"
    }
   ],
   "source": [
    "code_input"
   ]
  }
 ],
 "metadata": {
  "kernelspec": {
   "display_name": "Python 3",
   "language": "python",
   "name": "python3"
  },
  "language_info": {
   "codemirror_mode": {
    "name": "ipython",
    "version": 2
   },
   "file_extension": ".py",
   "mimetype": "text/x-python",
   "name": "python",
   "nbconvert_exporter": "python",
   "pygments_lexer": "ipython2",
   "version": "2.7.6"
  }
 },
 "nbformat": 4,
 "nbformat_minor": 0
}
